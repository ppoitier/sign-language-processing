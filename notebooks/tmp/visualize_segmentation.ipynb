{
 "cells": [
  {
   "cell_type": "code",
   "id": "initial_id",
   "metadata": {
    "collapsed": true
   },
   "source": [
    "from slp.config.load_config import load_segmentation_task_config\n",
    "from slp.config.loading.data import load_segmentation_dataset\n",
    "from slp.config.loading.trainer import load_segmentation_lightning_module\n",
    "from slp.codecs.segmentation.per_frame_labels import PerFrameLabelsCodec\n",
    "from slp.codecs.segmentation.offsets import OffsetsCodec\n",
    "\n",
    "import torch\n",
    "import matplotlib.pyplot as plt\n",
    "import numpy as np"
   ],
   "outputs": [],
   "execution_count": null
  },
  {
   "metadata": {},
   "cell_type": "code",
   "source": [
    "config_per_frames = load_segmentation_task_config(\"../configs/segmentation/inference_per_frames.yaml\")\n",
    "config_offsets = load_segmentation_task_config(\"../configs/segmentation/inference_offsets.yaml\")\n",
    "dataset, _ = load_segmentation_dataset(config_per_frames.datasets['testing'])\n",
    "module_per_frames = load_segmentation_lightning_module(config_per_frames)\n",
    "module_offsets = load_segmentation_lightning_module(config_offsets)\n",
    "per_frame_codec = PerFrameLabelsCodec()\n",
    "offsets_codec = OffsetsCodec(per_frame_codec)"
   ],
   "id": "476968c02dfe63d2",
   "outputs": [],
   "execution_count": null
  },
  {
   "metadata": {},
   "cell_type": "code",
   "source": [
    "def get_predicted_segments(sample, model, codec, device='cuda'):\n",
    "    model = model.to(device)\n",
    "    x = torch.from_numpy(sample['poses']).float().unsqueeze(0).to(device)\n",
    "    mask = torch.ones(1, x.shape[0]).to(device)\n",
    "    with torch.inference_mode():\n",
    "        logits = model(x, mask)[-1, 0]\n",
    "    segments = codec.decode_logits_to_segments(logits, n_classes=2)\n",
    "    return segments.detach().cpu().numpy(), logits[:, :2].softmax(dim=-1)"
   ],
   "id": "b4fe08f534cbd055",
   "outputs": [],
   "execution_count": null
  },
  {
   "metadata": {},
   "cell_type": "code",
   "source": [
    "def plot_segments(segments: np.ndarray, y_lim=(0, 0.5), x_lim=None, ax=None, alpha=0.5, **kwargs):\n",
    "    if ax is None:\n",
    "        ax = plt.gca()\n",
    "    y_min, y_max = y_lim\n",
    "    if x_lim is None:\n",
    "        x_lim = (segments.min() - 100, segments.max() + 100)\n",
    "    x_min, x_max = x_lim\n",
    "    plt.hlines(y_min, xmin=x_min, xmax=x_max, color='black', linestyles='solid')\n",
    "    for index, segment in enumerate(segments):\n",
    "        start, end = segment[:2]\n",
    "        ax.axvspan(start, end+1, ymin=y_min, ymax=y_max, alpha=alpha, edgecolor='black', linewidth=0.5, **kwargs)"
   ],
   "id": "51955fdbcd200728",
   "outputs": [],
   "execution_count": null
  },
  {
   "metadata": {},
   "cell_type": "code",
   "source": [
    "sample = dataset[40]\n",
    "gt_segments = sample['segments']\n",
    "pred_segments_per_frames, probs_offsets = get_predicted_segments(sample, model=module_per_frames.backbone, codec=per_frame_codec)\n",
    "pred_segments_offsets, scores = get_predicted_segments(sample, model=module_offsets.backbone, codec=offsets_codec)\n",
    "\n",
    "colors = plt.cm.tab10(np.linspace(0, 1, 10))\n",
    "plt.figure(figsize=(20, 4))\n",
    "x_min, x_max = 1260, 1650\n",
    "plt.xlim(x_min, x_max)\n",
    "plt.ylim(0, 1)\n",
    "# plt.axis('off')\n",
    "plot_segments(gt_segments, y_lim=(0.8, 1.0), facecolor=colors[0])\n",
    "plot_segments(pred_segments_per_frames, y_lim=(0.5, 0.7), facecolor=colors[1])\n",
    "plot_segments(pred_segments_offsets, y_lim=(0.2, 0.4), facecolor=colors[2])\n",
    "plt.annotate('Ground truth', (x_min + 5, 0.9), fontsize=12)\n",
    "plt.annotate('Moryossef (2020)', (x_min + 5, 0.6), fontsize=12)\n",
    "plt.annotate('Our Method', (x_min + 5, 0.3), fontsize=12)\n",
    "plt.show()"
   ],
   "id": "b7247ce50af23e81",
   "outputs": [],
   "execution_count": null
  },
  {
   "metadata": {},
   "cell_type": "code",
   "source": "",
   "id": "82afa708a91fa3ae",
   "outputs": [],
   "execution_count": null
  }
 ],
 "metadata": {
  "kernelspec": {
   "display_name": "Python 3",
   "language": "python",
   "name": "python3"
  },
  "language_info": {
   "codemirror_mode": {
    "name": "ipython",
    "version": 2
   },
   "file_extension": ".py",
   "mimetype": "text/x-python",
   "name": "python",
   "nbconvert_exporter": "python",
   "pygments_lexer": "ipython2",
   "version": "2.7.6"
  }
 },
 "nbformat": 4,
 "nbformat_minor": 5
}
